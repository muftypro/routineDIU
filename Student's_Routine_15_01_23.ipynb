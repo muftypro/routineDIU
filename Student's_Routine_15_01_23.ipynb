{
  "cells": [
    {
      "cell_type": "code",
      "execution_count": null,
      "metadata": {
        "id": "FeIEOFWznsuU",
        "colab": {
          "base_uri": "https://localhost:8080/"
        },
        "outputId": "5175568d-4b6b-4203-f373-ae50bd146c1c"
      },
      "outputs": [
        {
          "output_type": "stream",
          "name": "stdout",
          "text": [
            "Drive already mounted at /content/drive; to attempt to forcibly remount, call drive.mount(\"/content/drive\", force_remount=True).\n"
          ]
        }
      ],
      "source": [
        "import pandas as pd\n",
        "import io\n",
        "from google.colab import drive\n",
        "drive.mount('/content/drive')"
      ]
    },
    {
      "cell_type": "code",
      "execution_count": null,
      "metadata": {
        "id": "7pLs0cl4n8Qi"
      },
      "outputs": [],
      "source": [
        "# csv file download  link: https://drive.google.com/file/d/1wFWeMCnhk4e0wWGgvtY0uVS6FqVoxK6A/view?usp=sharing\n",
        "# /content/drive/MyDrive/Study/Routine/v36.csv\n",
        "\n",
        "# url='/content/drive/MyDrive/Study/Routine/sp1.csv'\n",
        "# url='/content/drive/MyDrive/Study/Routine/spr23_v1_head.csv'\n",
        "url='/content/drive/MyDrive/Study/Routine/spr23_v1.csv'\n",
        "# dd=pd.read_csv(url)\n",
        "dd=pd.read_csv(url)\n",
        "L=[]\n",
        "for line in open(url):          #Open the file and read all the lines\n",
        "    x=line.rstrip()                  #Strip the \\n from each line\n",
        "    L.append(x.split(','))       #Split each line into a list and add it to the Multidimensional array\n",
        "# print(L)\n",
        "ds2=L\n"
      ]
    },
    {
      "cell_type": "code",
      "source": [
        "# dd.head\n"
      ],
      "metadata": {
        "id": "dBbbRFUy-fCj"
      },
      "execution_count": null,
      "outputs": []
    },
    {
      "cell_type": "code",
      "source": [
        "print(\"Batch:\",end=' ')\n",
        "# batch=input()\n",
        "batch='54'\n",
        "\n",
        "\n",
        "print(\"Section:\",end=' ')\n",
        "\n",
        "# section=input().upper()\n",
        "section='E'\n",
        "\n",
        "what_to_search=batch+'_'+section\n",
        "\n",
        "what_to_search\n"
      ],
      "metadata": {
        "id": "N-qzv-xb4GFc",
        "colab": {
          "base_uri": "https://localhost:8080/",
          "height": 35
        },
        "outputId": "c543d5c7-bace-4fae-8089-a55dc599e5e2"
      },
      "execution_count": null,
      "outputs": [
        {
          "output_type": "stream",
          "name": "stdout",
          "text": [
            "Batch: Section: "
          ]
        },
        {
          "output_type": "execute_result",
          "data": {
            "text/plain": [
              "'54_E'"
            ],
            "application/vnd.google.colaboratory.intrinsic+json": {
              "type": "string"
            }
          },
          "metadata": {},
          "execution_count": 118
        }
      ]
    },
    {
      "cell_type": "code",
      "source": [],
      "metadata": {
        "id": "oB58a2v54l1K"
      },
      "execution_count": null,
      "outputs": []
    },
    {
      "cell_type": "code",
      "source": [
        "#function for calculating day from TI Part \n",
        "def day(roww):\n",
        "  r=roww\n",
        "  day_track=0 \n",
        "  for i in range(r,0,-1): \n",
        "    for ii in range(27): \n",
        "      if('day' in ds2[i][13]): \n",
        "        if(day_track==0): \n",
        "          print('Day= ',ds2[i][13]) \n",
        "          day_track=1 \n",
        "          break\n",
        "\n",
        "day(10)          "
      ],
      "metadata": {
        "id": "9cXb67SCVc71",
        "colab": {
          "base_uri": "https://localhost:8080/"
        },
        "outputId": "c16f44d2-0430-40f2-a9db-b02554e76d83"
      },
      "execution_count": null,
      "outputs": [
        {
          "output_type": "stream",
          "name": "stdout",
          "text": [
            "Day=  Saturday\n"
          ]
        }
      ]
    },
    {
      "cell_type": "code",
      "source": [
        "# updated on 22-09-22\n",
        "# bug fixed: on v36\n",
        "#  bug: if(counter==0)\n",
        "# solution:  if((counter==0) and (len(ds2[iii][c])<15 )): \n",
        "\n",
        "def time(row,col):\n",
        "  counter=0 \n",
        "  r=row \n",
        "  c=col \n",
        "  for iii in range(r,0,-1): \n",
        "    if((':' in ds2[iii][c])): \n",
        "      if((counter==0) and (len(ds2[iii][c])<15 )): \n",
        "        print('Class Time=        ', ds2[iii][c]) \n",
        "        counter=1\n",
        "\n",
        "time(10,13)"
      ],
      "metadata": {
        "id": "vSaR2frOZG3e",
        "colab": {
          "base_uri": "https://localhost:8080/"
        },
        "outputId": "47b6fbc1-db8e-4378-f62f-a9e5998d8e49"
      },
      "execution_count": null,
      "outputs": [
        {
          "output_type": "stream",
          "name": "stdout",
          "text": [
            "Class Time=         12:30-01:30\n"
          ]
        }
      ]
    },
    {
      "cell_type": "code",
      "source": [
        "def course_code_and_section(row,col):\n",
        "  r=row \n",
        "  c=col\n",
        "  print('Coure Code and Section=  ',ds2[r][c-2])\n",
        "\n",
        "course_code_and_section(22,9)"
      ],
      "metadata": {
        "id": "jhm_7Ee3bEel",
        "colab": {
          "base_uri": "https://localhost:8080/"
        },
        "outputId": "6d36a988-b451-4a53-a01e-4671d3b2b3ff"
      },
      "execution_count": null,
      "outputs": [
        {
          "output_type": "stream",
          "name": "stdout",
          "text": [
            "Coure Code and Section=   CSE135(62-G)\n"
          ]
        }
      ]
    },
    {
      "cell_type": "code",
      "source": [
        "def class_room(r,c):\n",
        "  if(pd.isnull(dd.loc[r][c-3])):  \n",
        "    #jodi 2 col pichoner row faka thake tokhn \n",
        "    #tokhn sei row er value e print kore dibe \n",
        "    print('Class Room= ', ds2[r][c-3])   \n",
        "    \n",
        "  else: \n",
        "    #else tar uporer row we value print hbe\n",
        "    print('Class Room= ',ds2[r-1][c-3])  \n",
        "  \n",
        "class_room(12,9)"
      ],
      "metadata": {
        "id": "hgrgMmWDfpZY",
        "colab": {
          "base_uri": "https://localhost:8080/"
        },
        "outputId": "e069b725-e9fe-4a66-a93b-c8495ae2469d"
      },
      "execution_count": null,
      "outputs": [
        {
          "output_type": "stream",
          "name": "stdout",
          "text": [
            "Class Room=  AB04-501(A)\n"
          ]
        }
      ]
    },
    {
      "cell_type": "code",
      "source": [
        "def day(roww):\n",
        "  r=roww\n",
        "  day_track=0 \n",
        "  for i in range(r,0,-1): \n",
        "    for ii in range(27): \n",
        "      if('day' in ds2[i][13]): \n",
        "        if(day_track==0): \n",
        "          print('Day= ',ds2[i][13]) \n",
        "          day_track=1 \n",
        "          break\n",
        "\n",
        "day(10)     #only row number dilei holo"
      ],
      "metadata": {
        "id": "9WmoBVeCbQlI",
        "colab": {
          "base_uri": "https://localhost:8080/"
        },
        "outputId": "c6c0cc1f-bec7-42dc-92f5-6baae620a103"
      },
      "execution_count": null,
      "outputs": [
        {
          "output_type": "stream",
          "name": "stdout",
          "text": [
            "Day=  Saturday\n"
          ]
        }
      ]
    },
    {
      "cell_type": "code",
      "source": [
        "def course_code_and_section(row,col):\n",
        "  r=row \n",
        "  c=col\n",
        "  print('Coure Code and Section=  ',ds2[r][c])\n",
        "\n",
        "# course_code_and_section(22,9)\n",
        "\n",
        "def day(roww):\n",
        "  r=roww\n",
        "  day_track=0 \n",
        "  for i in range(r,0,-1): \n",
        "    for ii in range(27): \n",
        "      if('day' in ds2[i][13]): \n",
        "        if(day_track==0): \n",
        "          print('Day= ',ds2[i][13]) \n",
        "          day_track=1 \n",
        "          break \n",
        "\n",
        "def class_room(row,col):\n",
        "  r=row\n",
        "  c=col\n",
        "  if('-' in ds2[r][c-1]):\n",
        "    print('Vora')\n",
        "    print(ds2[r][c-1])\n",
        "\n",
        "  else:\n",
        "    print('Faka')\n",
        "    print(ds2[r-1][c-1] + ds2[r][c-1] +' '+ ds2[r+1][c-1] )  \n",
        "\n",
        "\n",
        "  # if(pd.isnull(dd.loc[r][c-1])):  \n",
        "  #   # print(dd.loc[r][c-1])\n",
        "  #   # print(r,c-1)\n",
        "\n",
        "  #   # print('Null  -1 Class Room=                            ', ds2[r-1][c-1])   \n",
        "  #   print('Null r main Class Room=                            ', ds2[r][c-1])   \n",
        "  #   # print('Null +1 Class Room=                            ', ds2[r+1][c-1])   \n",
        " \n",
        "  # else: \n",
        "  #   # print(dd.loc[r][c-1])\n",
        "  #   # print(r,c-1)\n",
        "\n",
        "  #   print('Class Room=                      ',ds2[r-1][c-1] )  \n",
        "  #   # print('Class Room =                      ',ds2[r-1][c-1] + ds2[r+1][c-1])  #with braket text\n",
        "  #   # print('Full r Class Room=                            ',ds2[r][c-1])\n",
        "  #   # print('Full +1 Class Room=                            ',ds2[r+1][c-1])\n",
        "\n",
        "# ------------------Funtion End-----------------------#\n",
        "\n",
        "# print(\"Batch:\",end=' ')\n",
        "# batch=input()\n",
        "# print(\"Section:\",end=' ')\n",
        "# section=input().upper()\n",
        "# what_to_search=batch+'_'+section\n",
        "what_to_search=\"54_E\"\n",
        "end_loop_signal=0\n",
        "total=0\n",
        "\n",
        "\n",
        "for i in range (len(ds2)):\n",
        "  for ii in range(0,len(ds2[i])-1):\n",
        "    if('In case of any routine-related queries' in  ds2[i][ii] ):\n",
        "      end_loop_signal=1\n",
        "      break\n",
        "    if(end_loop_signal==1): \n",
        "      break \n",
        "\n",
        "    elif(what_to_search in ds2[i][ii]):\n",
        "      if(end_loop_signal==0):\n",
        "        print('___________________________________')\n",
        "        print('Location: ', ds2[i][ii], i, ii)\n",
        "        total=total+1\n",
        "\n",
        "        day(i)\n",
        "        course_code_and_section(i,ii)\n",
        "        print(\"TE: \", ds2[i][ii+1] )\n",
        "        class_room(i,ii)\n",
        "        # time(i,ii-2) \n",
        "# total_class(total)"
      ],
      "metadata": {
        "id": "plzBX_l_7DIo",
        "colab": {
          "base_uri": "https://localhost:8080/"
        },
        "outputId": "72ef5a61-2cda-4739-9a69-9f1addd8fa6f"
      },
      "execution_count": null,
      "outputs": [
        {
          "output_type": "stream",
          "name": "stdout",
          "text": [
            "___________________________________\n",
            "Location:  CSE426(54_E) 224 13\n",
            "Day=  Monday\n",
            "Coure Code and Section=   CSE426(54_E)\n",
            "TE:  MHI\n",
            "Faka\n",
            "AB04-613(DAFFODIL ROBOTICS LAB)\n",
            "___________________________________\n",
            "Location:  CSE498(54_E) 296 19\n",
            "Day=  Monday\n",
            "Coure Code and Section=   CSE498(54_E)\n",
            "TE:  FZA\n",
            "Vora\n",
            "AB04-304\n",
            "___________________________________\n",
            "Location:  CSE427(54_E) 297 16\n",
            "Day=  Monday\n",
            "Coure Code and Section=   CSE427(54_E)\n",
            "TE:  RS\n",
            "Vora\n",
            "AB04-305\n",
            "___________________________________\n",
            "Location:  CSE423(54_E) 306 1\n",
            "Day=  Monday\n",
            "Coure Code and Section=   CSE423(54_E)\n",
            "TE:  LR\n",
            "Vora\n",
            "AB04-801\n",
            "___________________________________\n",
            "Location:  CSE427(54_E) 411 19\n",
            "Day=  Tuesday\n",
            "Coure Code and Section=   CSE427(54_E)\n",
            "TE:  RS\n",
            "Vora\n",
            "AB04-306\n",
            "___________________________________\n",
            "Location:  CSE423(54_E) 417 1\n",
            "Day=  Tuesday\n",
            "Coure Code and Section=   CSE423(54_E)\n",
            "TE:  LR\n",
            "Vora\n",
            "AB04-802\n",
            "___________________________________\n",
            "Location:  CSE498(54_E) 516 19\n",
            "Day=  Wednesday\n",
            "Coure Code and Section=   CSE498(54_E)\n",
            "TE:  FZA\n",
            "Vora\n",
            "AB04-306\n",
            "___________________________________\n",
            "Location:  CSE426(54_E) 528 1\n",
            "Day=  Wednesday\n",
            "Coure Code and Section=   CSE426(54_E)\n",
            "TE:  MHI\n",
            "Vora\n",
            "AB04-804\n"
          ]
        }
      ]
    },
    {
      "cell_type": "code",
      "source": [],
      "metadata": {
        "id": "WZsseM08y9zk"
      },
      "execution_count": null,
      "outputs": []
    },
    {
      "cell_type": "code",
      "source": [
        "i=5 \n",
        "ii=20\n",
        "print('Location: ', ds2[i][ii-1], i, ii)\n"
      ],
      "metadata": {
        "colab": {
          "base_uri": "https://localhost:8080/"
        },
        "id": "OGX66I3gcLUY",
        "outputId": "c75250f4-1b62-4c72-a0d0-3af641031ccc"
      },
      "execution_count": null,
      "outputs": [
        {
          "output_type": "stream",
          "name": "stdout",
          "text": [
            "Location:  02:30-03:30 5 20\n"
          ]
        }
      ]
    },
    {
      "cell_type": "code",
      "source": [
        "# Spring_2023_V1.0.pdf\n",
        "# /content/drive/MyDrive/Study/Routine/Spring_2023_V1.0.pdf"
      ],
      "metadata": {
        "id": "zxMc3ZZt-MWR"
      },
      "execution_count": null,
      "outputs": []
    },
    {
      "cell_type": "markdown",
      "source": [
        "**PDF to CSV**"
      ],
      "metadata": {
        "id": "Eop-PzGlBKrk"
      }
    },
    {
      "cell_type": "code",
      "source": [
        "# https://colab.research.google.com/drive/1LQEis-wpxLmcOwmQ2FenshoU5eOhIfZX?usp=sharing"
      ],
      "metadata": {
        "id": "FKKJDAysBE0t"
      },
      "execution_count": null,
      "outputs": []
    },
    {
      "cell_type": "code",
      "source": [],
      "metadata": {
        "id": "vV5Rh0suERdQ"
      },
      "execution_count": null,
      "outputs": []
    },
    {
      "cell_type": "code",
      "execution_count": null,
      "metadata": {
        "id": "CxYoSgXy_vgR"
      },
      "outputs": [],
      "source": [
        "# !pip install tabula-py"
      ]
    },
    {
      "cell_type": "code",
      "source": [
        "# pip install --force-reinstall tabula-py"
      ],
      "metadata": {
        "id": "_bCLFpJJFXtb"
      },
      "execution_count": null,
      "outputs": []
    },
    {
      "cell_type": "code",
      "source": [
        "# from tabula.io import read_pdf"
      ],
      "metadata": {
        "id": "r3NC0WvM_4uh"
      },
      "execution_count": null,
      "outputs": []
    },
    {
      "cell_type": "code",
      "source": [
        "# pdf='/content/drive/MyDrive/Study/Routine/Spring_2023_V1.0.pdf'"
      ],
      "metadata": {
        "id": "qk_sLf0N_7Zm"
      },
      "execution_count": null,
      "outputs": []
    },
    {
      "cell_type": "code",
      "source": [
        "# # Import the required Module\n",
        "# import tabula\n",
        "# from tabula.io import read_pdf\n",
        "\n",
        "# # Read a PDF File\n",
        "# df = tabula.read_pdf(pdf, pages='all')[0]\n",
        "# # convert PDF into CSV\n",
        "# tabula.convert_into(pdf, \"converted1.csv\", output_format=\"csv\", pages='all')\n",
        "# df.head"
      ],
      "metadata": {
        "id": "u1Sg1V4ZAWED"
      },
      "execution_count": null,
      "outputs": []
    },
    {
      "cell_type": "code",
      "source": [
        "# df.to_csv('/content/drive/MyDrive/Study/Routine/Spring_2023_V1.0converted22.csv')"
      ],
      "metadata": {
        "id": "vrgtkFtIB-WC"
      },
      "execution_count": null,
      "outputs": []
    }
  ],
  "metadata": {
    "colab": {
      "provenance": []
    },
    "kernelspec": {
      "display_name": "Python 3",
      "name": "python3"
    },
    "language_info": {
      "name": "python"
    }
  },
  "nbformat": 4,
  "nbformat_minor": 0
}