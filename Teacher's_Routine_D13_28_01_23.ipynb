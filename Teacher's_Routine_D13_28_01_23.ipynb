{
  "cells": [
    {
      "cell_type": "code",
      "execution_count": null,
      "metadata": {
        "id": "FeIEOFWznsuU",
        "colab": {
          "base_uri": "https://localhost:8080/"
        },
        "outputId": "dc5eb6b7-f55b-476a-8638-74810f6418f1"
      },
      "outputs": [
        {
          "output_type": "stream",
          "name": "stdout",
          "text": [
            "Mounted at /content/drive\n"
          ]
        }
      ],
      "source": [
        "import pandas as pd\n",
        "import io\n",
        "from google.colab import drive\n",
        "drive.mount('/content/drive')"
      ]
    },
    {
      "cell_type": "code",
      "execution_count": null,
      "metadata": {
        "id": "7pLs0cl4n8Qi"
      },
      "outputs": [],
      "source": [
        "# csv file download  link: https://drive.google.com/file/d/1wFWeMCnhk4e0wWGgvtY0uVS6FqVoxK6A/view?usp=sharing\n",
        "# /content/drive/MyDrive/Study/Routine/v36.csv\n",
        "\n",
        "# url='/content/drive/MyDrive/Study/Routine/v36.csv'\n",
        "# dd=pd.read_csv(url)\n",
        "url='/content/drive/MyDrive/Study/Routine/sp23_2.1.csv'\n",
        "\n",
        "dd=pd.read_csv('/content/drive/MyDrive/Study/Routine/sp23_2.1.csv')\n",
        "L=[]                 \n",
        "for line in open(url):          #Open the file and read all the lines\n",
        "    x=line.rstrip()                  #Strip the \\n from each line\n",
        "    L.append(x.split(','))       #Split each line into a list and add it to the Multidimensional array\n",
        "# print(L)\n",
        "ds2=L\n"
      ]
    },
    {
      "cell_type": "code",
      "source": [
        "# ds2[: 8]"
      ],
      "metadata": {
        "id": "LqIm5uzyGvN4"
      },
      "execution_count": null,
      "outputs": []
    },
    {
      "cell_type": "code",
      "source": [
        "def time(row,col):\n",
        "  counter=0 \n",
        "  r=row \n",
        "  c=col \n",
        "  for iii in range(r,0,-1): \n",
        "    if((':' in ds2[iii][c])): \n",
        "      if((counter==0) and (len(ds2[iii][c])<15 )): \n",
        "        print('Class Time='+' '*24 + ds2[iii][c]) \n",
        "        counter=1\n",
        "\n",
        "# time(2,16)\n",
        "\n",
        "def course_code_and_section(row,col):\n",
        "  r=row \n",
        "  c=col\n",
        "  print('Coure Code and Section=  ',ds2[r][c])\n",
        "\n",
        "# course_code_and_section(22,9)\n",
        "\n",
        "def day(roww):\n",
        "  r=roww\n",
        "  day_track=0 \n",
        "  for i in range(r,0,-1): \n",
        "    for ii in range(27): \n",
        "      if('day' in ds2[i][13]): \n",
        "        if(day_track==0): \n",
        "          print('Day= '+ ' '*35 + ds2[i][13]) \n",
        "          day_track=1 \n",
        "          break \n",
        "\n",
        "def class_room(row,col):\n",
        "  r=row\n",
        "  c=col\n",
        "  if('-' in ds2[r][c-1]):         #Vorat\n",
        "    print('Class Room= ', end=' '*22)\n",
        "    print(ds2[r][c-1])\n",
        "\n",
        "  else:                              #Faka\n",
        "    print('Class Room= ', end=' '*22)\n",
        "    print(ds2[r-1][c-1] + ds2[r][c-1] +' '+ ds2[r+1][c-1] )  \n",
        "\n",
        "\n",
        "# ------------------Function Ends-----------------------#\n",
        "\n",
        "print(\"Enter Batch (Such as 53):\",end=' ')\n",
        "batch=input()\n",
        "print(\"Enter Section (Such as A or PC-A):\",end=' ')\n",
        "section=input().upper()\n",
        "what_to_search=batch+'_'+section\n",
        "# what_to_search=\"54_E\"\n",
        "end_loop_signal=0\n",
        "total=0\n",
        "\n",
        "\n",
        "for i in range (len(ds2)):\n",
        "  for ii in range(0,len(ds2[i])-1):\n",
        "    if('In case of any routine-related queries' in  ds2[i][ii] ):\n",
        "      end_loop_signal=1\n",
        "      break\n",
        "    if(end_loop_signal==1): \n",
        "      break \n",
        "\n",
        "    elif(what_to_search in ds2[i][ii]):\n",
        "      if(end_loop_signal==0):\n",
        "        print('-'*95)\n",
        "        # print('Location: ', ds2[i][ii], i, ii)\n",
        "        total=total+1\n",
        "        \n",
        "        day(i)\n",
        "        course_code_and_section(i,ii)\n",
        "        print(\"TE= \"+ ' '*37 + ds2[i][ii+1] )\n",
        "        class_room(i,ii)\n",
        "        time(i,ii) \n",
        "# total_class(total)o"
      ],
      "metadata": {
        "id": "gmqKQF2c6F8G"
      },
      "execution_count": null,
      "outputs": []
    },
    {
      "cell_type": "code",
      "source": [
        "#function for calculating day from TI Part \n",
        "def day(roww):\n",
        "  r=roww\n",
        "  day_track=0 \n",
        "  for i in range(r,0,-1): \n",
        "    for ii in range(27): \n",
        "      if('day' in ds2[i][13]): \n",
        "        if(day_track==0): \n",
        "          print('Day= ',ds2[i][13]) \n",
        "          day_track=1 \n",
        "          break\n",
        "\n",
        "day(520)          "
      ],
      "metadata": {
        "id": "9cXb67SCVc71"
      },
      "execution_count": null,
      "outputs": []
    },
    {
      "cell_type": "code",
      "source": [
        "# updated on 22-09-22\n",
        "# bug fixed: on v36\n",
        "#  bug: if(counter==0)\n",
        "# solution:  if((counter==0) and (len(ds2[iii][c])<15 )): \n",
        "\n",
        "def time(row,col):\n",
        "  counter=0 \n",
        "  r=row \n",
        "  c=col \n",
        "  for iii in range(r,0,-1): \n",
        "    if((':' in ds2[iii][c] )): \n",
        "      if((counter==0) and (len(ds2[iii][c])<15 )): \n",
        "\n",
        "        print('Class Time=        ', ds2[iii][c]) \n",
        "        print(iii,c)\n",
        "        counter=1\n",
        "\n",
        "time(598,13)"
      ],
      "metadata": {
        "id": "vSaR2frOZG3e"
      },
      "execution_count": null,
      "outputs": []
    },
    {
      "cell_type": "code",
      "source": [
        "def course_code_and_section(row,col):\n",
        "  r=row \n",
        "  c=col\n",
        "  print('Coure Code and Section=  ',ds2[r][c-2])\n",
        "\n",
        "course_code_and_section(171,9)"
      ],
      "metadata": {
        "id": "jhm_7Ee3bEel"
      },
      "execution_count": null,
      "outputs": []
    },
    {
      "cell_type": "code",
      "source": [
        "def class_room():\n",
        "  if(pd.isnull(dd.loc[r][c-3])):  \n",
        "    #jodi 2 col pichoner row faka thake tokhn \n",
        "    #tokhn sei row er value e print kore dibe \n",
        "    print('Class Room= ', ds2[r][c-3])   \n",
        "    \n",
        "  else: \n",
        "    #else tar uporer row we value print hbe\n",
        "    print('Class Room= ',ds2[r-1][c-3])  \n",
        "  \n"
      ],
      "metadata": {
        "id": "hgrgMmWDfpZY"
      },
      "execution_count": null,
      "outputs": []
    },
    {
      "cell_type": "code",
      "source": [
        "# Day\n",
        "# Course code and Section\n",
        "# Room\n",
        "# Time\n",
        "\n",
        "def day(roww):\n",
        "  r=roww\n",
        "  day_track=0 \n",
        "  for i in range(r,0,-1): \n",
        "    for ii in range(27): \n",
        "      if('day' in ds2[i][13]): \n",
        "        if(day_track==0): \n",
        "          print('Day=                                          ',ds2[i][13]) \n",
        "          day_track=1 \n",
        "          break\n",
        "\n",
        "def time(row,col):\n",
        "  counter=0 \n",
        "  r=row \n",
        "  c=col \n",
        "  for iii in range(r,0,-1): \n",
        "    if((':' in ds2[iii][c] )): \n",
        "      if((counter==0) and (len(ds2[iii][c])<15 )): \n",
        "        print('Class Time=                              ', ds2[iii][c]) \n",
        "        counter=1\n",
        "\n",
        "def class_room(row,col):\n",
        "  print(row,col)\n",
        "  r=row\n",
        "  c=col\n",
        "  if(pd.isnull(dd.loc[r][c-3])):  \n",
        "    print('Class Room=                            ', ds2[r][c-3])   \n",
        " \n",
        "  else: \n",
        "    print('Class Room=                            ',ds2[r-1][c-3])  \n",
        "  \n",
        "\n",
        "def course_code_and_section(row,col):\n",
        "  r=row \n",
        "  c=col\n",
        "  print('Coure Code and Section=    ',ds2[r][c-2])\n",
        "\n",
        "def total_class(total):\n",
        "  if(total>0):\n",
        "    print('___________________________________')\n",
        "    print('\\nTotal classes:                           ', total) \n",
        "  else: \n",
        "    print('___________________________________')\n",
        "    print(\"\\nNo teacher found by this Teacher Initial\")\n",
        "\n",
        "\n",
        "# ------------------Funtion End-----------------------#\n",
        "\n",
        "total=0\n",
        "what_to_search=input().upper()\n",
        "end_loop_signal=0\n",
        "\n",
        "\n",
        "for i in range (len(ds2)):\n",
        "  for ii in range(0,len(ds2[i])-1):\n",
        "    if('In case of any routine-related queries' in  ds2[i][ii-1] ):\n",
        "      end_loop_signal=1\n",
        "      break\n",
        "    if(end_loop_signal==1): \n",
        "      break \n",
        "\n",
        "    elif(what_to_search == ds2[i][ii-1]):\n",
        "      if(end_loop_signal==0):\n",
        "        print('___________________________________')\n",
        "        total=total+1\n",
        "\n",
        "        day(i)\n",
        "        course_code_and_section(i,ii)\n",
        "        class_room(i,ii)\n",
        "        time(i,ii-2)\n",
        "        \n",
        "total_class(total)"
      ],
      "metadata": {
        "id": "9WmoBVeCbQlI"
      },
      "execution_count": null,
      "outputs": []
    },
    {
      "cell_type": "code",
      "source": [
        "url='/content/drive/MyDrive/Study/Routine/sp23_2.1.csv'\n",
        "# dd=pd.read_csv(url)\n",
        "dd=pd.read_csv(url)\n",
        "L=[]\n",
        "for line in open(url):          #Open the file and read all the lines\n",
        "    x=line.rstrip()                  #Strip the \\n from each line\n",
        "    L.append(x.split(','))       #Split each line into a list and add it to the Multidimensional array\n",
        "# print(L)\n",
        "ds2=L"
      ],
      "metadata": {
        "id": "Gg4CfLSA76qg"
      },
      "execution_count": null,
      "outputs": []
    },
    {
      "cell_type": "code",
      "source": [
        "def time(row,col):\n",
        "  counter=0 \n",
        "  r=row \n",
        "  c=col \n",
        "  for iii in range(r,0,-1): \n",
        "    if((':' in ds2[iii][c])): \n",
        "      if((counter==0) and (len(ds2[iii][c])<15 )): \n",
        "        print('Class Time='+' '*24 + ds2[iii][c]) \n",
        "        counter=1\n",
        "\n",
        "# time(10,13)\n",
        "\n",
        "def course_code_and_section(row,col):\n",
        "  r=row \n",
        "  c=col\n",
        "  print('Coure Code and Section=  ',ds2[r][c])\n",
        "\n",
        "# course_code_and_section(22,9)\n",
        "\n",
        "def day(roww):\n",
        "  r=roww\n",
        "  day_track=0 \n",
        "  for i in range(r,0,-1): \n",
        "    for ii in range(27): \n",
        "      if('day' in ds2[i][13]): \n",
        "        if(day_track==0): \n",
        "          print('Day= '+ ' '*35 + ds2[i][13]) \n",
        "          day_track=1 \n",
        "          break \n",
        "\n",
        "def class_room(row,col):\n",
        "  r=row\n",
        "  c=col\n",
        "  if('-' in ds2[r][c-1]):         #Vorat\n",
        "    print('Class Room= ', end=' '*22)\n",
        "    print(ds2[r][c-1])\n",
        "\n",
        "  else:                              #Faka\n",
        "    print('Class Room= ', end=' '*22)\n",
        "    print(ds2[r-1][c-1] + ds2[r][c-1] +' '+ ds2[r+1][c-1] )  \n",
        "\n",
        "\n",
        "# ------------------Function Ends-----------------------#\n",
        "\n",
        "print(\"Enter Batch (Such as 53):\",end=' ')\n",
        "batch=input()\n",
        "print(\"Enter Section (Such as A or PC-A):\",end=' ')\n",
        "section=input().upper()\n",
        "what_to_search=batch+'_'+section\n",
        "# what_to_search=\"54_E\"\n",
        "end_loop_signal=0\n",
        "total=0\n",
        "\n",
        "\n",
        "for i in range (len(ds2)):\n",
        "  for ii in range(0,len(ds2[i])-1):\n",
        "    if('In case of any routine-related queries' in  ds2[i][ii] ):\n",
        "      end_loop_signal=1\n",
        "      break\n",
        "    if(end_loop_signal==1): \n",
        "      break \n",
        "\n",
        "    elif(what_to_search in ds2[i][ii]):\n",
        "      if(end_loop_signal==0):\n",
        "        print('-'*95)\n",
        "        # print('Location: ', ds2[i][ii], i, ii)\n",
        "        total=total+1\n",
        "        \n",
        "        day(i)\n",
        "        course_code_and_section(i,ii)\n",
        "        print(\"TE= \"+ ' '*37 + ds2[i][ii+1] )\n",
        "        class_room(i,ii)\n",
        "        time(i,ii) \n",
        "# total_class(total)"
      ],
      "metadata": {
        "id": "l3dEIjGQ7ZhD"
      },
      "execution_count": null,
      "outputs": []
    },
    {
      "cell_type": "code",
      "source": [
        "def time(row,col):\n",
        "  counter=0 \n",
        "  r=row \n",
        "  c=col \n",
        "  for iii in range(r,0,-1): \n",
        "    if((':' in ds2[iii][c])): \n",
        "      if((counter==0) and (len(ds2[iii][c])<15 )): \n",
        "        print('Class Time='+' '*24 + ds2[iii][c]) \n",
        "        counter=1\n",
        "\n",
        "# time(10,13)\n"
      ],
      "metadata": {
        "id": "kNtSd5KmG5A8"
      },
      "execution_count": null,
      "outputs": []
    },
    {
      "cell_type": "code",
      "source": [
        "\n",
        "def course_code_and_section(row,col):\n",
        "  r=row \n",
        "  c=col\n",
        "  print('Coure Code and Section=  ',ds2[r][c])\n",
        "\n",
        "# course_code_and_section(22,9)\n"
      ],
      "metadata": {
        "id": "x6GR7VLMG8Ph"
      },
      "execution_count": null,
      "outputs": []
    },
    {
      "cell_type": "code",
      "source": [
        "\n",
        "def day(roww):\n",
        "  r=roww\n",
        "  day_track=0 \n",
        "  for i in range(r,0,-1): \n",
        "    for ii in range(27): \n",
        "      if('day' in ds2[i][13]): \n",
        "        if(day_track==0): \n",
        "          print('Day= '+ ' '*35 + ds2[i][13]) \n",
        "          day_track=1 \n",
        "          break \n"
      ],
      "metadata": {
        "id": "UZRD51a_G-Q9"
      },
      "execution_count": null,
      "outputs": []
    },
    {
      "cell_type": "code",
      "source": [
        "\n",
        "def class_room(row,col):\n",
        "  r=row\n",
        "  c=col\n",
        "  if('-' in ds2[r][c-1]):         #Vorat\n",
        "    print('Class Room= ', end=' '*22)\n",
        "    print(ds2[r][c-1])\n",
        "\n",
        "  else:                              #Faka\n",
        "    print('Class Room= ', end=' '*22)\n",
        "    print(ds2[r-1][c-1] + ds2[r][c-1] +' '+ ds2[r+1][c-1] )  \n",
        "\n",
        "\n",
        "# ------------------Function Ends-----------------------#\n"
      ],
      "metadata": {
        "id": "EAFT8m4KHAmS"
      },
      "execution_count": null,
      "outputs": []
    },
    {
      "cell_type": "code",
      "source": [
        "# print(\"Enter Batch (Such as 53):\",end=' ')\n",
        "# batch=input()\n",
        "print(\"Enter Teacher Initial: \",end=' ')\n",
        "section=input().upper()\n",
        "what_to_search=section\n",
        "# what_to_search=\"54_E\"\n",
        "end_loop_signal=0\n",
        "total=0\n",
        "\n",
        "\n",
        "for i in range (len(ds2)):\n",
        "  for ii in range(0,len(ds2[i])-1):\n",
        "    if('In case of any routine-related queries' in  ds2[i][ii] ):\n",
        "      end_loop_signal=1\n",
        "      break\n",
        "    if(end_loop_signal==1): \n",
        "      break \n",
        "\n",
        "    elif(what_to_search in ds2[i][ii]):\n",
        "      if(end_loop_signal==0):\n",
        "        print('-'*95)\n",
        "        # print('Location: ', ds2[i][ii], i, ii)\n",
        "        total=total+1\n",
        "        \n",
        "        day(i)\n",
        "        course_code_and_section(i,ii)\n",
        "        print(\"TE= \"+ ' '*37 + ds2[i][ii+1] )\n",
        "        class_room(i,ii)\n",
        "        time(i,ii) \n",
        "# total_class(total)o"
      ],
      "metadata": {
        "id": "63P1GXkjHC6y"
      },
      "execution_count": null,
      "outputs": []
    },
    {
      "cell_type": "code",
      "source": [
        "print('hi')"
      ],
      "metadata": {
        "colab": {
          "base_uri": "https://localhost:8080/"
        },
        "id": "G4FcECvAfcnb",
        "outputId": "fb738439-9f54-490a-9e8b-eaecadfc1632"
      },
      "execution_count": null,
      "outputs": [
        {
          "output_type": "stream",
          "name": "stdout",
          "text": [
            "hi\n"
          ]
        }
      ]
    },
    {
      "cell_type": "code",
      "source": [
        "for bow in range()"
      ],
      "metadata": {
        "id": "cfajtYhofogp"
      },
      "execution_count": null,
      "outputs": []
    }
  ],
  "metadata": {
    "colab": {
      "provenance": []
    },
    "kernelspec": {
      "display_name": "Python 3",
      "name": "python3"
    },
    "language_info": {
      "name": "python"
    }
  },
  "nbformat": 4,
  "nbformat_minor": 0
}